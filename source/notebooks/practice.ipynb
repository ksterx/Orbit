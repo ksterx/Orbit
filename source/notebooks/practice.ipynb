{
 "cells": [
  {
   "cell_type": "code",
   "execution_count": 1,
   "id": "f639c7a9",
   "metadata": {},
   "outputs": [],
   "source": [
    "# Copyright (c) 2020-2021, NVIDIA CORPORATION.  All rights reserved.\n",
    "#\n",
    "# NVIDIA CORPORATION and its licensors retain all intellectual property\n",
    "# and proprietary rights in and to this software, related documentation\n",
    "# and any modifications thereto.  Any use, reproduction, disclosure or\n",
    "# distribution of this software and related documentation without an express\n",
    "# license agreement from NVIDIA CORPORATION is strictly prohibited.\n"
   ]
  },
  {
   "cell_type": "code",
   "execution_count": 1,
   "id": "420e8940",
   "metadata": {
    "tags": []
   },
   "outputs": [
    {
     "name": "stdout",
     "output_type": "stream",
     "text": [
      "Starting kit application with the fillowing args:  ['/home/ksterx/.local/share/ov/pkg/isaac_sim-2022.1.1/exts/omni.isaac.kit/omni/isaac/kit/simulation_app.py', '/home/ksterx/.local/share/ov/pkg/isaac_sim-2022.1.1/apps/omni.isaac.sim.python.kit', '--/app/tokens/exe-path=/home/ksterx/.local/share/ov/pkg/isaac_sim-2022.1.1/kit', '--/persistent/app/viewport/displayOptions=3094', '--/rtx/materialDb/syncLoads=True', '--/rtx/hydra/materialSyncLoads=True--/omni.kit.plugin/syncUsdLoads=True', '--/app/renderer/resolution/width=1280', '--/app/renderer/resolution/height=720', '--/app/window/width=1440', '--/app/window/height=900', '--/renderer/multiGpu/enabled=True', '--ext-folder', '/home/ksterx/.local/share/ov/pkg/isaac_sim-2022.1.1/exts', '--ext-folder', '/home/ksterx/.local/share/ov/pkg/isaac_sim-2022.1.1/apps', '--/physics/cudaDevice=0', '--portable', '--no-window']\n",
      "Passing the following args to the base kit application:  ['-f', '/home/ksterx/.local/share/jupyter/runtime/kernel-6991d523-6704-427b-bcd3-2ef31bcbcddd.json']\n",
      "[Warning] [omni.kit.app.plugin] No crash reporter present, dumps uploading isn't available.\n",
      "[Info] [carb] Logging to file: /home/ksterx/.local/share/ov/pkg/isaac_sim-2022.1.1/kit/logs/Kit/Isaac-Sim/2022.1/kit_20230324_010406.log\n",
      "2023-03-23 16:04:06 [5ms] [Warning] [omni.ext.plugin] [ext: omni.drivesim.sensors.nv.lidar] Extensions config 'extension.toml' doesn't exist '/home/ksterx/.local/share/ov/pkg/isaac_sim-2022.1.1/exts/omni.drivesim.sensors.nv.lidar' or '/home/ksterx/.local/share/ov/pkg/isaac_sim-2022.1.1/exts/omni.drivesim.sensors.nv.lidar/config'\n",
      "[0.130s] [ext: omni.stats-0.0.0] startup\n",
      "[0.140s] [ext: omni.gpu_foundation-0.0.0] startup\n",
      "2023-03-23 16:04:06 [139ms] [Warning] [carb] FrameworkImpl::setDefaultPlugin(client: omni.gpu_foundation_factory.plugin, desc : [carb::graphics::Graphics v2.5], plugin : carb.graphics-vulkan.plugin) failed. Plugin selection is locked, because the interface was previously acquired by: \n",
      "[0.145s] [ext: carb.windowing.plugins-1.0.0] startup\n",
      "[0.152s] [ext: omni.assets.plugins-0.0.0] startup\n",
      "[0.152s] [ext: omni.kit.renderer.init-0.0.0] startup\n",
      "\n",
      "|---------------------------------------------------------------------------------------------|\n",
      "| Driver Version: 515.65.1      | Graphics API: Vulkan\n",
      "|=============================================================================================|\n",
      "| GPU | Name                             | Active | LDA | GPU Memory | Vendor-ID | LUID       |\n",
      "|     |                                  |        |     |            | Device-ID | UUID       |\n",
      "|---------------------------------------------------------------------------------------------|\n",
      "| 0   | NVIDIA GeForce RTX 3060          | Yes: 0 |     | 12534   MB | 10de      | 0          |\n",
      "|     |                                  |        |     |            | 2504      | ffe8fb09.. |\n",
      "|=============================================================================================|\n",
      "| OS: Linux home-ubuntu, Version: 5.19.0-35-generic\n",
      "| XServer Vendor: The X.Org Foundation, XServer Version: 12101003 (1.21.1.3)\n",
      "| Processor: 12th Gen Intel(R) Core(TM) i7-12700 | Cores: Unknown | Logical: 20\n",
      "|---------------------------------------------------------------------------------------------|\n",
      "| Total Memory (MB): 31839 | Free Memory: 10878\n",
      "| Total Page/Swap (MB): 2047 | Free Page/Swap: 2047\n",
      "|---------------------------------------------------------------------------------------------|\n",
      "2023-03-23 16:04:07 [742ms] [Warning] [carb.cudainterop.plugin] On Linux only, CUDA and the display driver does not support IOMMU-enabled bare-metal PCIe peer to peer memory copy.\n",
      "However, CUDA and the display driver does support IOMMU via VM pass through. As a consequence, users on Linux,\n",
      "when running on a native bare metal system, should disable the IOMMU. The IOMMU should be enabled and the VFIO driver\n",
      "be used as a PCIe pass through for virtual machines.\n",
      "[0.757s] [ext: omni.kit.pipapi-0.0.0] startup\n",
      "[0.764s] [ext: omni.kit.pip_archive-0.0.0] startup\n",
      "[0.767s] [ext: omni.isaac.core_archive-1.2.0] startup\n",
      "[0.838s] [ext: omni.usd.config-1.0.0] startup\n",
      "[0.840s] [ext: omni.usd.libs-1.0.0] startup\n",
      "[0.939s] [ext: omni.kit.pip_torch-1_11_0-0.1.3] startup\n",
      "[0.959s] [ext: omni.isaac.ml_archive-1.1.0] startup\n",
      "[0.987s] [ext: omni.kit.loop-isaac-0.1.0] startup\n",
      "[0.988s] [ext: omni.kit.async_engine-0.0.0] startup\n",
      "[0.989s] [ext: omni.appwindow-1.0.0] startup\n",
      "[0.991s] [ext: omni.client-0.1.0] startup\n",
      "[0.998s] [ext: omni.kit.test-0.0.0] startup\n",
      "[0.999s] [ext: omni.kit.renderer.core-0.0.0] startup\n",
      "[1.046s] [ext: omni.ui-2.10.3] startup\n",
      "[1.057s] [ext: carb.audio-0.1.0] startup\n",
      "[1.059s] [ext: omni.kit.mainwindow-0.0.0] startup\n",
      "[1.060s] [ext: omni.uiaudio-1.0.0] startup\n",
      "[1.061s] [ext: omni.kit.uiapp-0.0.0] startup\n",
      "[1.061s] [ext: omni.usd.schema.physics-1.0.0] startup\n",
      "[1.116s] [ext: omni.usd.schema.audio-0.0.0] startup\n",
      "[1.121s] [ext: omni.usd.schema.semantics-0.0.0] startup\n",
      "[1.128s] [ext: omni.usd.schema.omnigraph-1.0.0] startup\n",
      "[1.134s] [ext: omni.usd.schema.anim-0.0.0] startup\n",
      "[1.162s] [ext: omni.kit.commands-1.2.2] startup\n",
      "[1.165s] [ext: omni.timeline-1.0.2] startup\n",
      "[1.166s] [ext: omni.hydra.scene_delegate-0.2.0] startup\n",
      "[1.172s] [ext: omni.kit.audiodeviceenum-1.0.0] startup\n",
      "[1.173s] [ext: omni.usd-1.5.3] startup\n",
      "[1.219s] [ext: omni.kit.asset_converter-1.2.31] startup\n",
      "[1.230s] [ext: omni.usd.schema.physx-0.0.0] startup\n",
      "[1.252s] [ext: omni.usd.schema.isaac-0.2.0] startup\n",
      "[1.280s] [ext: omni.usd.schema.forcefield-0.0.0] startup\n",
      "[1.285s] [ext: omni.kvdb-0.0.0] startup\n",
      "[1.287s] [ext: omni.usdphysics-1.4.15] startup\n",
      "[1.289s] [ext: omni.graph.tools-1.4.0] startup\n",
      "[1.305s] [ext: omni.localcache-0.0.0] startup\n",
      "[1.307s] [ext: omni.kit.stage_templates-1.1.2] startup\n",
      "[1.308s] [ext: omni.convexdecomposition-1.4.15] startup\n",
      "[1.310s] [ext: omni.physics.tensors-0.1.0] startup\n",
      "[1.316s] [ext: omni.physx-1.4.15-5.1] startup\n",
      "[1.330s] [ext: omni.graph.core-2.29.1] startup\n",
      "[1.334s] [ext: omni.kit.menu.utils-1.2.11] startup\n",
      "[1.341s] [ext: omni.physx.tensors-0.1.0] startup\n",
      "[1.345s] [ext: omni.graph-1.23.0] startup\n",
      "[1.378s] [ext: omni.kit.numpy.common-0.1.0] startup\n",
      "[1.380s] [ext: omni.kit.window.script_editor-1.6.2] startup\n",
      "[1.388s] [ext: omni.kit.search_core-1.0.2] startup\n",
      "[1.389s] [ext: omni.isaac.dynamic_control-1.1.0] startup\n",
      "[1.395s] [ext: omni.kit.renderer.capture-0.0.0] startup\n",
      "[1.397s] [ext: omni.kit.widget.filebrowser-2.2.27] startup\n",
      "[1.402s] [ext: omni.kit.widget.path_field-2.0.3] startup\n",
      "[1.403s] [ext: omni.kit.notification_manager-1.0.5] startup\n",
      "[1.405s] [ext: omni.kit.widget.versioning-1.3.8] startup\n",
      "[1.406s] [ext: omni.kit.widget.browser_bar-2.0.3] startup\n",
      "[1.407s] [ext: omni.kit.window.popup_dialog-2.0.8] startup\n",
      "[1.409s] [ext: omni.mdl.neuraylib-0.1.0] startup\n",
      "[1.411s] [ext: omni.kit.window.filepicker-2.4.30] startup\n"
     ]
    },
    {
     "name": "stderr",
     "output_type": "stream",
     "text": [
      "OmniAssetFileFormat\n"
     ]
    },
    {
     "name": "stdout",
     "output_type": "stream",
     "text": [
      "Warp initialized:\n",
      "   Version: 0.2.2\n",
      "   CUDA device: NVIDIA GeForce RTX 3060\n",
      "   Kernel cache: /home/ksterx/.cache/warp/0.2.2\n",
      "[1.449s] [ext: omni.kit.menu.create-1.0.2] startup\n",
      "[1.450s] [ext: omni.mdl-0.1.0] startup\n",
      "[1.509s] [ext: omni.kit.window.file_importer-1.0.4] startup\n",
      "[1.510s] [ext: omni.kit.window.file_exporter-1.0.4] startup\n",
      "[1.511s] [ext: omni.kit.material.library-1.3.10] startup\n",
      "[1.513s] [ext: omni.kit.window.drop_support-1.0.0] startup\n",
      "[1.514s] [ext: omni.kit.window.file-1.3.16] startup\n",
      "[1.515s] [ext: omni.kit.context_menu-1.3.9] startup\n",
      "[1.518s] [ext: omni.kit.window.property-1.6.3] startup\n",
      "[1.519s] [ext: omni.kit.window.content_browser-2.4.28] startup\n",
      "[1.526s] [ext: omni.kit.widget.stage-2.6.15] startup\n",
      "[1.529s] [ext: omni.isaac.version-1.0.0] startup\n",
      "[1.530s] [ext: omni.kit.property.usd-3.14.9] startup\n",
      "[1.553s] [ext: omni.kit.viewport.legacy_gizmos-1.0.0] startup\n",
      "[1.556s] [ext: omni.hydra.rtx-0.1.0] startup\n",
      "[1.563s] [ext: omni.renderer-rtx-0.0.0] startup\n",
      "[1.563s] [ext: omni.hydra.engine.stats-1.0.0] startup\n",
      "[1.568s] [ext: omni.debugdraw-0.1.0] startup\n",
      "[1.571s] [ext: omni.kit.widget.settings-1.0.0] startup\n",
      "[1.573s] [ext: omni.kit.window.viewport-0.0.0] startup\n",
      "[2.094s] [ext: omni.kit.widget.prompt-1.0.1] startup\n",
      "[2.094s] [ext: omni.kit.widget.graph-1.4.3] startup\n",
      "[2.099s] [ext: omni.kit.window.preferences-1.2.1] startup\n",
      "[2.122s] [ext: omni.ui_query-1.1.1] startup\n",
      "[2.124s] [ext: omni.graph.ui-1.6.1] startup\n",
      "[2.140s] [ext: omni.kit.ui_test-1.2.2] startup\n",
      "[2.141s] [ext: omni.graph.action-1.18.0] startup\n",
      "[2.149s] [ext: omni.kit.widget.searchfield-1.0.6] startup\n",
      "[2.150s] [ext: omni.kit.usd_undo-0.1.0] startup\n",
      "[2.151s] [ext: omni.graph.scriptnode-0.5.0] startup\n",
      "[2.152s] [ext: omni.physx.commands-1.4.15-5.1] startup\n",
      "[2.156s] [ext: omni.graph.nodes-1.26.0] startup\n",
      "[2.165s] [ext: omni.command.usd-1.0.1] startup\n",
      "[2.167s] [ext: omni.kit.window.extensions-1.1.0] startup\n",
      "[2.171s] [ext: omni.syntheticdata-0.2.1] startup\n",
      "[2.195s] [ext: omni.kit.primitive.mesh-1.0.0] startup\n",
      "[2.198s] [ext: omni.warp-0.2.2] startup\n",
      "[2.590s] [ext: omni.isaac.ui-0.2.1] startup\n",
      "[2.592s] [ext: omni.replicator.core-1.4.3] startup\n",
      "[2.731s] [ext: omni.isaac.core-1.24.3] startup\n",
      "[2.794s] [ext: omni.physx.ui-1.4.15-5.1] startup\n",
      "[2.840s] [ext: omni.kit.property.material-1.8.5] startup\n",
      "[2.842s] [ext: omni.kit.window.toolbar-1.2.4] startup\n",
      "[2.846s] [ext: omni.isaac.core_nodes-0.13.0] startup\n",
      "[2.854s] [ext: omni.physx.demos-1.4.15-5.1] startup\n",
      "[2.856s] [ext: omni.kit.property.physx-0.1.0] startup\n",
      "2023-03-23 16:04:09 [2,893ms] [Warning] [omni.physx.plugin] Deprecated: getSimulationEventStream is deprecated, please use getSimulationEventStreamV2\n",
      "[2.900s] [ext: omni.physx.tests-1.4.15-5.1] startup\n",
      "[3.063s] [ext: omni.isaac.wheeled_robots-0.5.8] startup\n",
      "[3.071s] [ext: omni.kit.menu.common-1.0.0] startup\n",
      "[3.071s] [ext: omni.physx.vehicle-1.4.15-5.1] startup\n",
      "[3.080s] [ext: omni.physx.cct-1.4.15-5.1] startup\n",
      "[3.129s] [ext: omni.physx.camera-1.4.15-5.1] startup\n",
      "[3.134s] [ext: omni.kit.widget.stage_icons-1.0.2] startup\n",
      "[3.135s] [ext: omni.ui.scene-1.5.0] startup\n",
      "[3.139s] [ext: omni.physx.bundle-1.4.15-5.1] startup\n",
      "[3.139s] [ext: omni.kit.window.stage-2.3.7] startup\n",
      "[3.141s] [ext: omni.replicator.composer-1.1.3] startup\n",
      "[3.152s] [ext: omni.isaac.lula-1.1.0] startup\n",
      "[3.159s] [ext: omni.rtx.window.settings-0.6.1] startup\n",
      "[3.162s] [ext: omni.isaac.surface_gripper-0.1.2] startup\n",
      "[3.166s] [ext: omni.isaac.motion_planning-0.2.0] startup\n",
      "[3.171s] [ext: omni.rtx.settings.core-0.5.5] startup\n",
      "[3.174s] [ext: omni.isaac.manipulators-1.0.1] startup\n",
      "[3.175s] [ext: omni.isaac.motion_generation-3.6.1] startup\n",
      "[3.179s] [ext: omni.kit.widget.zoombar-1.0.3] startup\n",
      "[3.179s] [ext: omni.kit.graph.delegate.default-1.0.15] startup\n",
      "[3.181s] [ext: omni.isaac.franka-0.3.0] startup\n",
      "[3.181s] [ext: omni.kit.browser.core-2.0.12] startup\n",
      "[3.184s] [ext: omni.kit.graph.editor.core-1.3.3] startup\n",
      "[3.186s] [ext: omni.kit.graph.usd.commands-1.1.0] startup\n",
      "[3.187s] [ext: omni.kit.browser.folder.core-1.1.13] startup\n",
      "[3.188s] [ext: omni.kit.graph.widget.variables-2.0.2] startup\n",
      "[3.189s] [ext: omni.kit.graph.delegate.modern-1.6.0] startup\n",
      "[3.190s] [ext: omni.kit.selection-0.1.0] startup\n",
      "[3.191s] [ext: omni.isaac.debug_draw-0.Saving a temp livesync stage at  omniverse://localhost/Users/ksterx/temp_jupyter_stage.usd  ...Done.\n"
     ]
    }
   ],
   "source": [
    "import getpass\n",
    "\n",
    "user = getpass.getuser()\n",
    "from omni.isaac.kit import SimulationApp\n",
    "\n",
    "# Set the path below to your desired nucleus server\n",
    "# Make sure you installed a local nucleus server before this\n",
    "try:\n",
    "    simulation_app.close()\n",
    "except NameError:\n",
    "    simulation_app = SimulationApp({\"livesync_usd\": f\"omniverse://localhost/Users/{user}/temp_jupyter_stage.usd\"})\n"
   ]
  },
  {
   "cell_type": "code",
   "execution_count": 2,
   "id": "2955b2e2",
   "metadata": {
    "tags": []
   },
   "outputs": [],
   "source": [
    "from omni.isaac.core import World\n",
    "from omni.isaac.core.objects import DynamicCuboid\n",
    "import numpy as np\n"
   ]
  },
  {
   "cell_type": "code",
   "execution_count": 3,
   "id": "41b7ba5b",
   "metadata": {
    "tags": []
   },
   "outputs": [],
   "source": [
    "world = World(stage_units_in_meters=1.0)\n",
    "world.scene.add_default_ground_plane()\n",
    "# A render/ step or an update call is needed to reflect the changes to the opened USD in Isaac Sim GUI\n",
    "#  Note: avoid pressing play/ pause or stop in the GUI in this workflow.\n",
    "world.render()\n"
   ]
  },
  {
   "cell_type": "code",
   "execution_count": 4,
   "id": "63bcf9ae-68b2-40eb-ba66-07514d49970e",
   "metadata": {
    "tags": []
   },
   "outputs": [],
   "source": [
    "stage = world.scene.stage"
   ]
  },
  {
   "cell_type": "code",
   "execution_count": 5,
   "id": "702a40af",
   "metadata": {
    "tags": []
   },
   "outputs": [],
   "source": [
    "from pxr import Gf, PhysxSchema, Sdf, Usd, UsdGeom, UsdPhysics, UsdShade\n",
    "from omni.physx.scripts import deformableUtils, physicsUtils, utils\n",
    "prim_path = \"/World/DeformableBody\"\n",
    "usd_path = \"omniverse://localhost/Users/ksterx/cube.usd\"\n",
    "pos = Gf.Vec3f(2.0, 2.0, 2.0)\n",
    "size = Gf.Vec3f(0.05, 0.05, 0.05)\n",
    "orient = Gf.Quatf(1.0)\n"
   ]
  },
  {
   "cell_type": "code",
   "execution_count": 6,
   "id": "9976644d-6831-45b4-bf2e-a87a17c2c46d",
   "metadata": {
    "tags": []
   },
   "outputs": [],
   "source": [
    "def create(stage, path, name, position, size, mesh_path, phys_mat_path, grfx_mat_path):\n",
    "    cube_path = path.AppendChild(name)\n",
    "    stage.DefinePrim(cube_path).GetReferences().AddReference(mesh_path)\n",
    "    skinMesh = UsdGeom.Mesh.Define(stage, cube_path)\n",
    "    skinMesh.AddTranslateOp().Set(position)\n",
    "    skinMesh.AddOrientOp().Set(Gf.Quatf(1.0))\n",
    "    skinMesh.AddScaleOp().Set(Gf.Vec3f(size, size, size))\n",
    "    deformableUtils.add_physx_deformable_body(\n",
    "        stage,\n",
    "        cube_path,\n",
    "        simulation_hexahedral_resolution=3,\n",
    "        collision_simplification=True,\n",
    "        self_collision=False,\n",
    "        solver_position_iteration_count=pos_iterations,\n",
    "    )\n",
    "    physicsUtils.add_physics_material_to_prim(stage, skinMesh.GetPrim(), phys_material_path)\n",
    "    physxCollisionAPI = PhysxSchema.PhysxCollisionAPI.Apply(skinMesh.GetPrim())\n",
    "    physxCollisionAPI.GetContactOffsetAttr().Set(0.02)\n",
    "    physxCollisionAPI.CreateRestOffsetAttr().Set(0.001)\n",
    "    omni.kit.commands.execute(\n",
    "        \"BindMaterialCommand\", prim_path=cube_path, material_path=grfx_material, strength=None\n",
    "    )"
   ]
  },
  {
   "cell_type": "code",
   "execution_count": 8,
   "id": "797ad0a1-0ccb-40e0-ad77-94413ac33d8d",
   "metadata": {
    "tags": []
   },
   "outputs": [
    {
     "data": {
      "text/plain": [
       "True"
      ]
     },
     "execution_count": 8,
     "metadata": {},
     "output_type": "execute_result"
    }
   ],
   "source": [
    "parent = stage.GetPrimAtPath(\"/World\").GetPath()\n",
    "env_xform = UsdGeom.Xform.Define(stage, parent.AppendChild(\"Deformables\"))\n",
    "env_xform.AddTranslateOp().Set(Gf.Vec3f(0.0, 0.0, 0.0))"
   ]
  },
  {
   "cell_type": "code",
   "execution_count": 9,
   "id": "15936c07-110f-49b3-85c8-f9230da45edb",
   "metadata": {
    "tags": []
   },
   "outputs": [
    {
     "data": {
      "text/plain": [
       "True"
      ]
     },
     "execution_count": 9,
     "metadata": {},
     "output_type": "execute_result"
    }
   ],
   "source": [
    "from pxr import Gf, PhysxSchema, Sdf, Usd, UsdGeom, UsdPhysics, UsdShade\n",
    "from omni.physx.scripts import deformableUtils, utils, physicsUtils\n",
    "import omni\n",
    "phys_scene = UsdPhysics.Scene.Define(stage, parent.AppendChild(\"physicsScene\"))\n",
    "phys_scene.CreateGravityDirectionAttr().Set(Gf.Vec3f(0.0, 0.0, -1.0))\n",
    "phys_scene.CreateGravityMagnitudeAttr().Set(9.807)\n",
    "utils.set_physics_scene_asyncsimrender(phys_scene.GetPrim())\n",
    "physxSceneAPI = PhysxSchema.PhysxSceneAPI.Apply(phys_scene.GetPrim())\n",
    "physxSceneAPI.CreateFrictionOffsetThresholdAttr().Set(0.001)\n",
    "physxSceneAPI.CreateFrictionCorrelationDistanceAttr().Set(0.0005)\n",
    "physxSceneAPI.CreateGpuTotalAggregatePairsCapacityAttr().Set(10 * 1024)\n",
    "physxSceneAPI.CreateGpuFoundLostPairsCapacityAttr().Set(10 * 1024)\n",
    "physxSceneAPI.CreateGpuCollisionStackSizeAttr().Set(64 * 1024 * 1024)\n",
    "physxSceneAPI.CreateGpuFoundLostAggregatePairsCapacityAttr().Set(10 * 1024)\n",
    "# clamp iterations:\n",
    "pos_iterations = 20\n",
    "vel_iterations = 1\n",
    "physxSceneAPI.GetMaxIterationCountAttr().Set(pos_iterations)\n",
    "UsdGeom.SetStageUpAxis(stage, UsdGeom.Tokens.z)\n",
    "UsdGeom.SetStageMetersPerUnit(stage, 1.0)\n",
    "\n",
    "# setup ground collision plane:\n",
    "utils.addPlaneCollider(stage, \"/World/physicsGroundPlaneCollider\", \"Z\")\n",
    "\n",
    "# deformable material path\n",
    "deformable_material_path = omni.usd.get_stage_next_free_path(stage, \"/DeformableBodyMaterial\", True)\n",
    "deformableUtils.add_deformable_body_material(\n",
    "    stage,\n",
    "    deformable_material_path,\n",
    "    youngs_modulus=10000000.0,\n",
    "    poissons_ratio=0.499,\n",
    "    damping_scale=0.0,\n",
    "    elasticity_damping=0.0001,\n",
    "    dynamic_friction=1.0,\n",
    "    density=300,\n",
    ")\n",
    "deformable_material2_path = omni.usd.get_stage_next_free_path(stage, \"/DeformableBodyMaterial2\", True)\n",
    "deformableUtils.add_deformable_body_material(\n",
    "    stage,\n",
    "    deformable_material2_path,\n",
    "    youngs_modulus=4000000.0,\n",
    "    poissons_ratio=0.499,\n",
    "    damping_scale=0.0,\n",
    "    elasticity_damping=0.005,\n",
    "    dynamic_friction=0.05,\n",
    "    density=100,\n",
    ")"
   ]
  },
  {
   "cell_type": "code",
   "execution_count": 10,
   "id": "78e92823-b90b-459c-985f-d7ccbec0fd8e",
   "metadata": {
    "tags": []
   },
   "outputs": [],
   "source": [
    "demo_camera = Sdf.Path(\"/World/Camera\")\n",
    "cam = UsdGeom.Camera.Define(stage, demo_camera)"
   ]
  },
  {
   "cell_type": "code",
   "execution_count": 11,
   "id": "3eb8af9d-5a04-4c24-bf9e-72674170721b",
   "metadata": {
    "tags": []
   },
   "outputs": [],
   "source": [
    "world.render()"
   ]
  },
  {
   "cell_type": "code",
   "execution_count": null,
   "id": "7f5a3460-f0cd-476d-b17c-27c1a3ad54a7",
   "metadata": {},
   "outputs": [],
   "source": [
    "grfx_mat_path = "
   ]
  },
  {
   "cell_type": "code",
   "execution_count": null,
   "id": "0931f71f-3b64-45ef-bd26-e62fac522a68",
   "metadata": {},
   "outputs": [],
   "source": [
    "create(stage, prim_path, \"cube\", pos, size, usd_path, deformable_material_path, grfx_mat_path)"
   ]
  },
  {
   "cell_type": "code",
   "execution_count": null,
   "id": "10a83e53",
   "metadata": {
    "tags": []
   },
   "outputs": [],
   "source": [
    "world.reset()\n",
    "for i in range(500):\n",
    "    position, orientation = fancy_cube.get_world_pose()\n",
    "    linear_velocity = fancy_cube.get_linear_velocity()\n",
    "    print(\"Cube position is : \" + str(position))\n",
    "    print(\"Cube's orientation is : \" + str(orientation))\n",
    "    print(\"Cube's linear velocity is : \" + str(linear_velocity))\n",
    "    # we have control over stepping physics and rendering in this workflow\n",
    "    # things run in sync\n",
    "    world.step(render=True)  # execute one physics step and one rendering step\n"
   ]
  },
  {
   "cell_type": "code",
   "execution_count": null,
   "id": "02f57ca0",
   "metadata": {},
   "outputs": [],
   "source": [
    "# Cleanup application\n",
    "simulation_app.close()\n"
   ]
  }
 ],
 "metadata": {
  "kernelspec": {
   "display_name": "Isaac Sim Python 3",
   "language": "python",
   "name": "isaac_sim_python3"
  },
  "language_info": {
   "codemirror_mode": {
    "name": "ipython",
    "version": 3
   },
   "file_extension": ".py",
   "mimetype": "text/x-python",
   "name": "python",
   "nbconvert_exporter": "python",
   "pygments_lexer": "ipython3",
   "version": "3.7.13"
  }
 },
 "nbformat": 4,
 "nbformat_minor": 5
}
